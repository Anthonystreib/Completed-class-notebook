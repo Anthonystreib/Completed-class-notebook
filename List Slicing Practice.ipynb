{
 "cells": [
  {
   "cell_type": "markdown",
   "id": "84114222",
   "metadata": {},
   "source": [
    "### Practice Questions on Lists\n",
    "(Submit the notebook on Moodle using Github along with the class notebook)"
   ]
  },
  {
   "cell_type": "markdown",
   "id": "0891df79",
   "metadata": {},
   "source": [
    "### numbers = [0, 1, 2, 3, 4, 5, 6, 7, 8, 9]\n",
    "1. Get the first three elements.\n",
    "2. Get elements from index 3 to 6 (inclusive).\n",
    "3. Get the last three elements.\n",
    "4. Get every second element from the list.\n",
    "5. Get a reverse of the list."
   ]
  },
  {
   "cell_type": "code",
   "execution_count": 1,
   "id": "5efba997",
   "metadata": {},
   "outputs": [],
   "source": [
    "numbers=[0, 1, 2, 3, 4, 5, 6, 7, 8, 9]"
   ]
  },
  {
   "cell_type": "code",
   "execution_count": 2,
   "id": "2183500f",
   "metadata": {},
   "outputs": [
    {
     "name": "stdout",
     "output_type": "stream",
     "text": [
      "First three numbers: [0, 1, 2]\n"
     ]
    }
   ],
   "source": [
    "print(f\"First three numbers: {numbers[:3]}\")"
   ]
  },
  {
   "cell_type": "code",
   "execution_count": 3,
   "id": "196191a2",
   "metadata": {},
   "outputs": [
    {
     "name": "stdout",
     "output_type": "stream",
     "text": [
      "numbers index 3 to 6: [3, 4, 5, 6]\n"
     ]
    }
   ],
   "source": [
    "print(f\"numbers index 3 to 6: {numbers[3:7]}\")"
   ]
  },
  {
   "cell_type": "code",
   "execution_count": 4,
   "id": "530acc4c",
   "metadata": {},
   "outputs": [
    {
     "name": "stdout",
     "output_type": "stream",
     "text": [
      "last three numbers: [7, 8, 9]\n"
     ]
    }
   ],
   "source": [
    "print(f\"last three numbers: {numbers[-3:]}\")"
   ]
  },
  {
   "cell_type": "code",
   "execution_count": 5,
   "id": "947532ed",
   "metadata": {},
   "outputs": [
    {
     "name": "stdout",
     "output_type": "stream",
     "text": [
      "Every second element: [0, 2, 4, 6, 8]\n"
     ]
    }
   ],
   "source": [
    "print(f\"Every second element: {numbers[::2]}\")"
   ]
  },
  {
   "cell_type": "code",
   "execution_count": 6,
   "id": "d0bcc0e1",
   "metadata": {},
   "outputs": [
    {
     "name": "stdout",
     "output_type": "stream",
     "text": [
      "Reverse: [9, 8, 7, 6, 5, 4, 3, 2, 1, 0]\n"
     ]
    }
   ],
   "source": [
    "print(f\"Reverse: {numbers[::-1]}\")"
   ]
  },
  {
   "cell_type": "markdown",
   "id": "dcc22463",
   "metadata": {},
   "source": [
    "### letters = ['a', 'b', 'c', 'd', 'e', 'f', 'g', 'h', 'i', 'j']\n",
    "1. Get every second letter starting from the first letter.\n",
    "2. Get every third letter starting from the second letter.\n",
    "3. Get every fourth letter starting from the third letter."
   ]
  },
  {
   "cell_type": "code",
   "execution_count": 11,
   "id": "34576f2b",
   "metadata": {},
   "outputs": [],
   "source": [
    "letters=['a', 'b', 'c', 'd', 'e', 'f', 'g', 'h', 'i', 'j']"
   ]
  },
  {
   "cell_type": "code",
   "execution_count": 14,
   "id": "7f3f0694",
   "metadata": {},
   "outputs": [
    {
     "name": "stdout",
     "output_type": "stream",
     "text": [
      "every second letter starting from the first letter: ['a', 'c', 'e', 'g', 'i']\n"
     ]
    }
   ],
   "source": [
    "print(f\"every second letter starting from the first letter: {letters[::2]}\")"
   ]
  },
  {
   "cell_type": "markdown",
   "id": "ee041ed9",
   "metadata": {},
   "source": [
    "### colors = ['red', 'green', 'blue', 'yellow', 'purple']\n",
    "1. Get the last two elements.\n",
    "2. Get elements from the third to the last element.\n",
    "3. Get a reverse of the list using negative indexing."
   ]
  },
  {
   "cell_type": "code",
   "execution_count": 15,
   "id": "0e5e09a0",
   "metadata": {},
   "outputs": [
    {
     "name": "stdout",
     "output_type": "stream",
     "text": [
      "last two elements: ['yellow', 'purple']\n"
     ]
    }
   ],
   "source": [
    "colors= ['red', 'green', 'blue', 'yellow', 'purple',]\n",
    "print(f\"last two elements: {colors[-2:]}\")"
   ]
  },
  {
   "cell_type": "code",
   "execution_count": 17,
   "id": "54a6f796",
   "metadata": {},
   "outputs": [
    {
     "name": "stdout",
     "output_type": "stream",
     "text": [
      "Elements third to last: ['blue', 'yellow', 'purple']\n"
     ]
    }
   ],
   "source": [
    "print(f\"Elements third to last: {colors[2:]}\")"
   ]
  },
  {
   "cell_type": "code",
   "execution_count": null,
   "id": "7e49ce26",
   "metadata": {},
   "outputs": [],
   "source": []
  },
  {
   "cell_type": "markdown",
   "id": "015a43d4",
   "metadata": {},
   "source": [
    "## Slicing Nested Lists\n",
    "### matrix = [[1, 2, 3], [4, 5, 6], [7, 8, 9]]\n",
    "1. Extract the second row (list [4, 5, 6]).\n",
    "2. Extract the number 2.\n",
    "3. Extract the number 9."
   ]
  },
  {
   "cell_type": "code",
   "execution_count": 19,
   "id": "b45aca96",
   "metadata": {},
   "outputs": [],
   "source": [
    "matrix=[[1,2,3],[4,5,6],[7,8,9]]"
   ]
  },
  {
   "cell_type": "code",
   "execution_count": 20,
   "id": "3cef0e46",
   "metadata": {},
   "outputs": [
    {
     "name": "stdout",
     "output_type": "stream",
     "text": [
      "Second row: [4, 5, 6]\n"
     ]
    }
   ],
   "source": [
    "print(f\"Second row: {matrix[1]}\")"
   ]
  },
  {
   "cell_type": "code",
   "execution_count": 21,
   "id": "f6912ee9",
   "metadata": {},
   "outputs": [
    {
     "name": "stdout",
     "output_type": "stream",
     "text": [
      "Number 2: 2\n"
     ]
    }
   ],
   "source": [
    "print(f\"Number 2: {matrix[0][1]}\")"
   ]
  },
  {
   "cell_type": "code",
   "execution_count": 22,
   "id": "535e0210",
   "metadata": {},
   "outputs": [
    {
     "name": "stdout",
     "output_type": "stream",
     "text": [
      "Number 9: 9\n"
     ]
    }
   ],
   "source": [
    "print(f\"Number 9: {matrix[2][2]}\")"
   ]
  },
  {
   "cell_type": "markdown",
   "id": "d5e1c1d6",
   "metadata": {},
   "source": [
    "### Matrix1=['Day', [23,45],'Monday', [[12,13],[14,15]]]\n",
    "- print monday\n",
    "- print 13\n",
    "- print 15\n",
    "- print 45\n",
    "- print day"
   ]
  },
  {
   "cell_type": "code",
   "execution_count": 26,
   "id": "546d09fc",
   "metadata": {},
   "outputs": [
    {
     "name": "stdout",
     "output_type": "stream",
     "text": [
      "['Day', [23, 45], 'Monday', [[12, 13], [14, 15]]]\n"
     ]
    }
   ],
   "source": [
    "Matrix1=['Day', [23,45],'Monday', [[12,13],[14,15]]]\n",
    "print(Matrix1)"
   ]
  },
  {
   "cell_type": "code",
   "execution_count": 28,
   "id": "4972085a",
   "metadata": {},
   "outputs": [
    {
     "name": "stdout",
     "output_type": "stream",
     "text": [
      "Monday: Monday\n"
     ]
    }
   ],
   "source": [
    "print(f'Monday: {Matrix1[2]}')"
   ]
  },
  {
   "cell_type": "code",
   "execution_count": 29,
   "id": "ba770fa9",
   "metadata": {},
   "outputs": [
    {
     "name": "stdout",
     "output_type": "stream",
     "text": [
      "13\n"
     ]
    }
   ],
   "source": [
    "print(Matrix1[3][0][1])"
   ]
  },
  {
   "cell_type": "code",
   "execution_count": 31,
   "id": "42e30768",
   "metadata": {},
   "outputs": [
    {
     "name": "stdout",
     "output_type": "stream",
     "text": [
      "15\n"
     ]
    }
   ],
   "source": [
    "print(Matrix1[3][1][1])"
   ]
  },
  {
   "cell_type": "code",
   "execution_count": 32,
   "id": "64a7571a",
   "metadata": {},
   "outputs": [
    {
     "name": "stdout",
     "output_type": "stream",
     "text": [
      "45\n"
     ]
    }
   ],
   "source": [
    "print(Matrix1[1][1])"
   ]
  },
  {
   "cell_type": "code",
   "execution_count": 33,
   "id": "e3e6ebe7",
   "metadata": {},
   "outputs": [
    {
     "name": "stdout",
     "output_type": "stream",
     "text": [
      "Day\n"
     ]
    }
   ],
   "source": [
    "print(Matrix1[0])"
   ]
  },
  {
   "cell_type": "code",
   "execution_count": null,
   "id": "53f0e27f",
   "metadata": {},
   "outputs": [],
   "source": []
  }
 ],
 "metadata": {
  "kernelspec": {
   "display_name": "Python 3 (ipykernel)",
   "language": "python",
   "name": "python3"
  },
  "language_info": {
   "codemirror_mode": {
    "name": "ipython",
    "version": 3
   },
   "file_extension": ".py",
   "mimetype": "text/x-python",
   "name": "python",
   "nbconvert_exporter": "python",
   "pygments_lexer": "ipython3",
   "version": "3.11.4"
  }
 },
 "nbformat": 4,
 "nbformat_minor": 5
}
