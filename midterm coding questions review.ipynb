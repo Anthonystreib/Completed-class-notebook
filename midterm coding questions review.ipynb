{
 "cells": [
  {
   "cell_type": "markdown",
   "id": "4e7e6594",
   "metadata": {},
   "source": [
    "What is a nested If statement? Get input from a user and check whether the number is odd or not. If the number is odd it is also less than or equal to 20. If not, then print relevant information."
   ]
  },
  {
   "cell_type": "code",
   "execution_count": 1,
   "id": "54cfa4cb",
   "metadata": {},
   "outputs": [
    {
     "name": "stdout",
     "output_type": "stream",
     "text": [
      "Enter a number: 18\n",
      "The number is even\n"
     ]
    }
   ],
   "source": [
    "num = int(input(\"Enter a number: \"))\n",
    "if num%2==1:\n",
    "    if num<=20:\n",
    "        print(\"The number is odd and less than or equal to 20\")\n",
    "    else:\n",
    "        print(\"The number is odd\")\n",
    "else:\n",
    "     print(\"The number is even\")"
   ]
  },
  {
   "cell_type": "markdown",
   "id": "ce8e3183",
   "metadata": {},
   "source": [
    "Get a user input of an integer number and check if the given unmber is a multiple of 11 or not"
   ]
  },
  {
   "cell_type": "code",
   "execution_count": 2,
   "id": "f5457b3c",
   "metadata": {},
   "outputs": [
    {
     "name": "stdout",
     "output_type": "stream",
     "text": [
      "Enter a number: 34\n",
      "34 is not a multiple of 11\n"
     ]
    }
   ],
   "source": [
    "number=int(input(\"Enter a number: \"))\n",
    "if number%11==0:\n",
    "    print(f\"{number} is a multiple of 11\")\n",
    "else:\n",
    "    print(f\"{number} is not a multiple of 11\")"
   ]
  },
  {
   "cell_type": "markdown",
   "id": "1c1f1278",
   "metadata": {},
   "source": [
    "In the United States, as of 1995, a minor is generally legally defined as a person under the age of 18. Write a code to check whether a student is a minor or not where the input will be given by users"
   ]
  },
  {
   "cell_type": "code",
   "execution_count": 7,
   "id": "c770bc3a",
   "metadata": {},
   "outputs": [
    {
     "name": "stdout",
     "output_type": "stream",
     "text": [
      "Enter your age: 25\n",
      "You are an adult\n"
     ]
    }
   ],
   "source": [
    "age=int(input(f\"Enter your age: \"))\n",
    "if age>=18:\n",
    "    print(\"You are an adult\")\n",
    "else:\n",
    "    print(\"You are a minor\")"
   ]
  },
  {
   "cell_type": "markdown",
   "id": "5482109b",
   "metadata": {},
   "source": [
    "Write down a program using a for loop that prints all numbers from 1 to 15 and adds them to a list called numbers_list"
   ]
  },
  {
   "cell_type": "code",
   "execution_count": 8,
   "id": "81f6b709",
   "metadata": {},
   "outputs": [
    {
     "name": "stdout",
     "output_type": "stream",
     "text": [
      "1\n",
      "2\n",
      "3\n",
      "4\n",
      "5\n",
      "6\n",
      "7\n",
      "8\n",
      "9\n",
      "10\n",
      "11\n",
      "12\n",
      "13\n",
      "14\n",
      "15\n",
      "The list is:  [1, 2, 3, 4, 5, 6, 7, 8, 9, 10, 11, 12, 13, 14, 15]\n"
     ]
    }
   ],
   "source": [
    "numbers_list=[]\n",
    "for i in range(1,16):\n",
    "    print(i)\n",
    "    numbers_list.append(i)\n",
    "print(\"The list is: \", numbers_list)"
   ]
  },
  {
   "cell_type": "code",
   "execution_count": null,
   "id": "03fcbd7b",
   "metadata": {},
   "outputs": [],
   "source": []
  }
 ],
 "metadata": {
  "kernelspec": {
   "display_name": "Python 3 (ipykernel)",
   "language": "python",
   "name": "python3"
  },
  "language_info": {
   "codemirror_mode": {
    "name": "ipython",
    "version": 3
   },
   "file_extension": ".py",
   "mimetype": "text/x-python",
   "name": "python",
   "nbconvert_exporter": "python",
   "pygments_lexer": "ipython3",
   "version": "3.11.4"
  }
 },
 "nbformat": 4,
 "nbformat_minor": 5
}
